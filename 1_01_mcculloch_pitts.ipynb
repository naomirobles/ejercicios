{
 "cells": [
  {
   "cell_type": "markdown",
   "metadata": {},
   "source": [
    "# Neurona McCulloch y Pitts\n",
    "\n",
    "(Ejercicio, 3 puntos posibles)\n",
    "\n",
    "El modelo de McCulloch y Pitts, concebido por Warren McCulloch, neurocientífico, y Walter Pitts, lógico matemático, en 1943 [1], representa uno de los fundamentos teóricos de las redes neuronales y la inteligencia artificial. Este modelo es una simplificación abstracta de las neuronas biológicas, propuesta para entender cómo podrían las neuronas del cerebro generar patrones complejos de pensamiento a partir de operaciones simples.\n",
    "\n",
    "[![Open In Colab](https://colab.research.google.com/assets/colab-badge.svg)](https://colab.research.google.com/github/irvingvasquez/cv2course_intro_nn/blob/master/01_mcculloch_pitts.ipynb)\n",
    "\n",
    "[1] McCulloch, W. S., & Pitts, W. (1990). A logical calculus of the ideas immanent in nervous activity. Bulletin of mathematical biology, 52, 99-115."
   ]
  },
  {
   "cell_type": "markdown",
   "metadata": {},
   "source": [
    "Para formalizar el modelo de McCulloch y Pitts, representaremos una neurona con la letra $C$ y definiremos que la entrada de dicha neurona, denominada $input$, está determinada por una tupla $(E,I)$, donde $E$ es el conjunto de señales excitatorias e $I$ es el conjunto de señales inhibitorias. Asimismo, estableceremos como restricciones que tanto la entrada como la salida sean variables binarias, es decir, $input, output \\in {0,1}$. Adicionalmente, definiremos un umbral $u$ que la neurona utiliza para determinar los casos de excitación..\n",
    "\n",
    "Dado lo anterior la salida de $C$ se calcula usando las siguientes reglas:\n",
    "\n",
    "1. En caso de que alguna de las entradas inhibitorias esté activa la neurona no se exita, es decir,\n",
    "    \n",
    "    $C(E,I) = 0$  if  $\\exists \\iota_i=1; \\iota_i \\in I$\\\\\n",
    "\n",
    "2. La neurona se exita si la integral de sus entradas exitatorias es igual o superior al umbral, es decir,\n",
    "    \n",
    "    $C(E,I) = 1$ if $\\sum e_i \\geq u; e \\in I$\\\\\n",
    "    \n",
    "\n",
    "3. En cualquier otro caso la neurona permanece sin exitación."
   ]
  },
  {
   "cell_type": "code",
   "execution_count": null,
   "metadata": {},
   "outputs": [],
   "source": [
    "#importamos paquetes necesarios\n",
    "import numpy as np"
   ]
  },
  {
   "cell_type": "code",
   "execution_count": 4,
   "metadata": {},
   "outputs": [],
   "source": [
    "# TODO: (2 puntos) Implemente la función del modelo M&P, no use funciones predefinidas de numpy\n",
    "def neuronaMyP(E,I,u):\n",
    "    if sum(I) >= 1:\n",
    "        return 0\n",
    "    elif sum(E) >= u:\n",
    "        return 1\n",
    "    else:\n",
    "        return 0"
   ]
  },
  {
   "cell_type": "code",
   "execution_count": 5,
   "metadata": {},
   "outputs": [
    {
     "name": "stdout",
     "output_type": "stream",
     "text": [
      "Entrada excitatoria E=[1] y Entrada inhibitoria I=[0] = 1\n"
     ]
    }
   ],
   "source": [
    "# suponga \n",
    "E = [1]\n",
    "I = [0]\n",
    "u = 1\n",
    "\n",
    "# Calcule la salida de la neurona y verfique si es correcto\n",
    "print(\"Entrada excitatoria E=\"+str(E)+\" y Entrada inhibitoria I=\"+str(I)+\" = \"+str(neuronaMyP(E,I,u)))"
   ]
  },
  {
   "cell_type": "code",
   "execution_count": 23,
   "metadata": {},
   "outputs": [],
   "source": [
    "# TODO: (1 punto) Implemente un programa que reciba vectores arbitrarios de E, I y u y devuelva la salida de la neurona.\n",
    "\n",
    "def vectores_arbitrarios():\n",
    "    casos_prueba = [\n",
    "        # Compuerta AND\n",
    "        ([0,0], [], 2),\n",
    "        ([0,1], [], 2),\n",
    "        ([1,0], [], 2),\n",
    "        ([1,1], [], 2),\n",
    "        # Compuerta OR\n",
    "        ([0,0], [], 1),\n",
    "        ([0,1], [], 1),\n",
    "        ([1,0], [], 1),\n",
    "        ([1,1], [], 1),\n",
    "        # Compuerta NOT\n",
    "        ([], [0], 0),\n",
    "        ([], [1], 0)\n",
    "    ]\n",
    "    for E, I, u in casos_prueba:\n",
    "        salida = neuronaMyP(E, I, u)\n",
    "        print(f\"Entrada excitatoria E={E}, Entrada inhibitoria I={I}, Umbral u={u} => Salida: {salida}\")\n"
   ]
  },
  {
   "cell_type": "code",
   "execution_count": 24,
   "metadata": {},
   "outputs": [
    {
     "name": "stdout",
     "output_type": "stream",
     "text": [
      "Entrada excitatoria E=[0, 0], Entrada inhibitoria I=[], Umbral u=2 => Salida: 0\n",
      "Entrada excitatoria E=[0, 1], Entrada inhibitoria I=[], Umbral u=2 => Salida: 0\n",
      "Entrada excitatoria E=[1, 0], Entrada inhibitoria I=[], Umbral u=2 => Salida: 0\n",
      "Entrada excitatoria E=[1, 1], Entrada inhibitoria I=[], Umbral u=2 => Salida: 1\n",
      "Entrada excitatoria E=[0, 0], Entrada inhibitoria I=[], Umbral u=1 => Salida: 0\n",
      "Entrada excitatoria E=[0, 1], Entrada inhibitoria I=[], Umbral u=1 => Salida: 1\n",
      "Entrada excitatoria E=[1, 0], Entrada inhibitoria I=[], Umbral u=1 => Salida: 1\n",
      "Entrada excitatoria E=[1, 1], Entrada inhibitoria I=[], Umbral u=1 => Salida: 1\n",
      "Entrada excitatoria E=[], Entrada inhibitoria I=[0], Umbral u=0 => Salida: 1\n",
      "Entrada excitatoria E=[], Entrada inhibitoria I=[1], Umbral u=0 => Salida: 0\n"
     ]
    }
   ],
   "source": [
    "vectores_arbitrarios()"
   ]
  }
 ],
 "metadata": {
  "kernelspec": {
   "display_name": "base",
   "language": "python",
   "name": "python3"
  },
  "language_info": {
   "codemirror_mode": {
    "name": "ipython",
    "version": 3
   },
   "file_extension": ".py",
   "mimetype": "text/x-python",
   "name": "python",
   "nbconvert_exporter": "python",
   "pygments_lexer": "ipython3",
   "version": "3.12.3"
  }
 },
 "nbformat": 4,
 "nbformat_minor": 2
}
